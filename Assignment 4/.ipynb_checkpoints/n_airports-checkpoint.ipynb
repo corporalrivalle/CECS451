{
  "cells": [
    {
      "cell_type": "code",
      "execution_count": 1,
      "metadata": {
        "colab": {
          "base_uri": "https://localhost:8080/",
          "height": 283
        },
        "id": "mt3E9f2_uH4B",
        "outputId": "2f7c322e-047d-434c-ee19-b203aefd519c"
      },
      "outputs": [
        {
          "output_type": "execute_result",
          "data": {
            "text/plain": [
              "<module 'matplotlib.pyplot' from '/usr/local/lib/python3.8/dist-packages/matplotlib/pyplot.py'>"
            ]
          },
          "metadata": {},
          "execution_count": 1
        },
        {
          "output_type": "display_data",
          "data": {
            "text/plain": [
              "<Figure size 432x288 with 1 Axes>"
            ],
            "image/png": "[encoded data removed]"
          },
          "metadata": {
            "needs_background": "light"
          }
        }
      ],
      "source": [
        "import random\n",
        "import numpy as np\n",
        "\n",
        "num_city = 100\n",
        "num_air = 3\n",
        "num_center = 5\n",
        "sigma = 0.1\n",
        "cities = set()\n",
        "airports = []\n",
        "\n",
        "# gererating a set of 100 cities (cities' locations will not change)\n",
        "for i in range(num_center):\n",
        "    x = random.random()\n",
        "    y = random.random()\n",
        "    xc = np.random.normal(x, sigma, num_city//num_center)\n",
        "    yc = np.random.normal(y, sigma, num_city//num_center)\n",
        "    cities = cities.union(zip(xc, yc))\n",
        "\n",
        "# generating initial random locations for 3 airports\n",
        "for i in range(num_air):\n",
        "    x = random.random()\n",
        "    y = random.random()\n",
        "    airports.append((x,y)) \n",
        "\n",
        "# plotting the initial state\n",
        "import matplotlib.pyplot as plt\n",
        "\n",
        "zip_cities = zip(*cities)\n",
        "plt.scatter(*zip_cities, marker='+',color='b', label='Cities')\n",
        "zip_airs = zip(*airports)\n",
        "plt.scatter(*zip_airs, marker='*', color='r', s=100, label='Airports')\n",
        "plt.legend()\n",
        "plt"
      ]
    },
    {
      "cell_type": "code",
      "execution_count": 2,
      "metadata": {
        "colab": {
          "base_uri": "https://localhost:8080/",
          "height": 283
        },
        "id": "UcwjXhHFuH4H",
        "outputId": "92fcccc9-a1a0-4ba8-e969-68a218aed06c"
      },
      "outputs": [
        {
          "output_type": "execute_result",
          "data": {
            "text/plain": [
              "[<matplotlib.lines.Line2D at 0x7f5ff3d9fe80>]"
            ]
          },
          "metadata": {},
          "execution_count": 2
        },
        {
          "output_type": "display_data",
          "data": {
            "text/plain": [
              "<Figure size 432x288 with 1 Axes>"
            ],
            "image/png": "[encoded data removed]"
          },
          "metadata": {
            "needs_background": "light"
          }
        }
      ],
      "source": [
        "# Objective as a function of epoch\n"
      ]
    },
    {
      "cell_type": "code",
      "source": [
        "# An optimal state\n"
      ],
      "metadata": {
        "colab": {
          "base_uri": "https://localhost:8080/",
          "height": 283
        },
        "id": "Kub3ZIFRrmAL",
        "outputId": "c595cf82-5ca1-4347-8f73-28bb517cf2af"
      },
      "execution_count": 3,
      "outputs": [
        {
          "output_type": "execute_result",
          "data": {
            "text/plain": [
              "<module 'matplotlib.pyplot' from '/usr/local/lib/python3.8/dist-packages/matplotlib/pyplot.py'>"
            ]
          },
          "metadata": {},
          "execution_count": 3
        },
        {
          "output_type": "display_data",
          "data": {
            "text/plain": [
              "<Figure size 432x288 with 1 Axes>"
            ],
            "image/png": "[encoded data removed]"
          },
          "metadata": {
            "needs_background": "light"
          }
        }
      ]
    }
  ],
  "metadata": {
    "kernelspec": {
      "display_name": "Python 3",
      "language": "python",
      "name": "python3"
    },
    "language_info": {
      "codemirror_mode": {
        "name": "ipython",
        "version": 3
      },
      "file_extension": ".py",
      "mimetype": "text/x-python",
      "name": "python",
      "nbconvert_exporter": "python",
      "pygments_lexer": "ipython3",
      "version": "3.7.9"
    },
    "colab": {
      "provenance": []
    }
  },
  "nbformat": 4,
  "nbformat_minor": 0
}